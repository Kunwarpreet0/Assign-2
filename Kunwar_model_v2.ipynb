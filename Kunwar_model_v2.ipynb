{
 "cells": [
  {
   "cell_type": "code",
   "execution_count": 1,
   "metadata": {},
   "outputs": [],
   "source": [
    "#importing libereies\n",
    "import pandas as pd\n",
    "from sklearn.model_selection import train_test_split\n",
    "from sklearn.naive_bayes import GaussianNB\n",
    "from sklearn.metrics import accuracy_score, precision_score, recall_score"
   ]
  },
  {
   "cell_type": "code",
   "execution_count": 2,
   "metadata": {},
   "outputs": [],
   "source": [
    "# Loading and Preprocess the Data\n",
    "data_url = \"https://archive.ics.uci.edu/ml/machine-learning-databases/breast-cancer-wisconsin/wdbc.data\"\n",
    "column_names = [\"ID\", \"Diagnosis\", \"Mean Radius\", \"Mean Texture\", \"Mean Perimeter\", \"Mean Area\",\n",
    "                \"Mean Smoothness\", \"Mean Compactness\", \"Mean Concavity\", \"Mean Concave Points\",\n",
    "                \"Mean Symmetry\", \"Mean Fractal Dimension\", \"SE Radius\", \"SE Texture\", \"SE Perimeter\",\n",
    "                \"SE Area\", \"SE Smoothness\", \"SE Compactness\", \"SE Concavity\", \"SE Concave Points\",\n",
    "                \"SE Symmetry\", \"SE Fractal Dimension\", \"Largest Radius\", \"Largest Texture\",\n",
    "                \"Largest Perimeter\", \"Largest Area\", \"Largest Smoothness\", \"Largest Compactness\",\n",
    "                \"Largest Concavity\", \"Largest Concave Points\", \"Largest Symmetry\", \"Largest Fractal Dimension\"]\n",
    "\n",
    "df = pd.read_csv(data_url, header=None, names=column_names)\n",
    "\n",
    "# Dropping unnecessary columns\n",
    "df = df.drop(\"ID\", axis=1)"
   ]
  },
  {
   "cell_type": "code",
   "execution_count": 3,
   "metadata": {},
   "outputs": [],
   "source": [
    "# Spliting the dataset into features (X) and target (y)\n",
    "X = df.drop(\"Diagnosis\", axis=1)\n",
    "y = df[\"Diagnosis\"]\n",
    "\n",
    "# Split the Data into Training and Testing Sets\n",
    "X_train, X_test, y_train, y_test = train_test_split(X, y, test_size=0.2, random_state=42)"
   ]
  },
  {
   "cell_type": "code",
   "execution_count": 6,
   "metadata": {},
   "outputs": [
    {
     "name": "stdout",
     "output_type": "stream",
     "text": [
      "Accuracy: 0.9736842105263158\n"
     ]
    }
   ],
   "source": [
    "# Defineing the Model\n",
    "model = GaussianNB()\n",
    "\n",
    "# Training the Model\n",
    "model.fit(X_train, y_train)\n",
    "\n",
    "# Evaluating the Model\n",
    "y_pred = model.predict(X_test)\n",
    "accuracy = accuracy_score(y_test, y_pred)\n",
    "\n",
    "print(\"Accuracy:\", accuracy)\n"
   ]
  },
  {
   "cell_type": "code",
   "execution_count": 5,
   "metadata": {},
   "outputs": [
    {
     "name": "stdout",
     "output_type": "stream",
     "text": [
      "Predicted Diagnosis: ['M']\n"
     ]
    },
    {
     "name": "stderr",
     "output_type": "stream",
     "text": [
      "c:\\ProgramData\\Anaconda3\\lib\\site-packages\\sklearn\\base.py:450: UserWarning: X does not have valid feature names, but GaussianNB was fitted with feature names\n",
      "  warnings.warn(\n"
     ]
    }
   ],
   "source": [
    "# Making Predictions\n",
    "new_data = [[14.26, 19.65, 97.83, 629.9, 0.07837, 0.2233, 0.3003, 0.07798, 0.1704, 0.07769,\n",
    "             0.2998, 0.9413, 1.752, 22.15, 0.004407, 0.02675, 0.03119, 0.007259, 0.01482,\n",
    "             0.003528, 15.3, 23.73, 107.0, 709.0, 0.08949, 0.4193, 0.6783, 0.1505, 0.2398,\n",
    "             0.1082]]\n",
    "\n",
    "prediction = model.predict(new_data)\n",
    "print(\"Predicted Diagnosis:\", prediction)"
   ]
  }
 ],
 "metadata": {
  "kernelspec": {
   "display_name": "base",
   "language": "python",
   "name": "python3"
  },
  "language_info": {
   "codemirror_mode": {
    "name": "ipython",
    "version": 3
   },
   "file_extension": ".py",
   "mimetype": "text/x-python",
   "name": "python",
   "nbconvert_exporter": "python",
   "pygments_lexer": "ipython3",
   "version": "3.9.13"
  },
  "orig_nbformat": 4
 },
 "nbformat": 4,
 "nbformat_minor": 2
}
